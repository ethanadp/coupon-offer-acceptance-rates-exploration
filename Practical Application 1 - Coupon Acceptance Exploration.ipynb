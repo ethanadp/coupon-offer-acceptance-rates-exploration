{
 "cells": [
  {
   "cell_type": "markdown",
   "metadata": {
    "id": "CcUT6Fon_qRE"
   },
   "source": [
    "### Required Assignment 5.1: Will the Customer Accept the Coupon?\n",
    "\n",
    "**Context**\n",
    "\n",
    "Imagine driving through town and a coupon is delivered to your cell phone for a restaurant near where you are driving. Would you accept that coupon and take a short detour to the restaurant? Would you accept the coupon but use it on a subsequent trip? Would you ignore the coupon entirely? What if the coupon was for a bar instead of a restaurant? What about a coffee house? Would you accept a bar coupon with a minor passenger in the car? What about if it was just you and your partner in the car? Would weather impact the rate of acceptance? What about the time of day?\n",
    "\n",
    "Obviously, proximity to the business is a factor on whether the coupon is delivered to the driver or not, but what are the factors that determine whether a driver accepts the coupon once it is delivered to them? How would you determine whether a driver is likely to accept a coupon?\n",
    "\n",
    "**Overview**\n",
    "\n",
    "The goal of this project is to use what you know about visualizations and probability distributions to distinguish between customers who accepted a driving coupon versus those that did not.\n",
    "\n",
    "**Data**\n",
    "\n",
    "This data comes to us from the UCI Machine Learning repository and was collected via a survey on Amazon Mechanical Turk. The survey describes different driving scenarios including the destination, current time, weather, passenger, etc., and then ask the person whether he will accept the coupon if he is the driver. Answers that the user will drive there ‘right away’ or ‘later before the coupon expires’ are labeled as ‘Y = 1’ and answers ‘no, I do not want the coupon’ are labeled as ‘Y = 0’.  There are five different types of coupons -- less expensive restaurants (under \\$20), coffee houses, carry out & take away, bar, and more expensive restaurants (\\$20 - $50)."
   ]
  },
  {
   "cell_type": "markdown",
   "metadata": {
    "id": "1wORvMBJ_qRF"
   },
   "source": [
    "**Deliverables**\n",
    "\n",
    "Your final product should be a brief report that highlights the differences between customers who did and did not accept the coupons.  To explore the data you will utilize your knowledge of plotting, statistical summaries, and visualization using Python. You will publish your findings in a public facing github repository as your first portfolio piece.\n",
    "\n",
    "\n",
    "\n"
   ]
  },
  {
   "cell_type": "markdown",
   "metadata": {
    "id": "pG6_Ym6q_qRG"
   },
   "source": [
    "### Data Description\n",
    "Keep in mind that these values mentioned below are average values.\n",
    "\n",
    "The attributes of this data set include:\n",
    "1. User attributes\n",
    "    -  Gender: male, female\n",
    "    -  Age: below 21, 21 to 25, 26 to 30, etc.\n",
    "    -  Marital Status: single, married partner, unmarried partner, or widowed\n",
    "    -  Number of children: 0, 1, or more than 1\n",
    "    -  Education: high school, bachelors degree, associates degree, or graduate degree\n",
    "    -  Occupation: architecture & engineering, business & financial, etc.\n",
    "    -  Annual income: less than \\\\$12500, \\\\$12500 - \\\\$24999, \\\\$25000 - \\\\$37499, etc.\n",
    "    -  Number of times that he/she goes to a bar: 0, less than 1, 1 to 3, 4 to 8 or greater than 8\n",
    "    -  Number of times that he/she buys takeaway food: 0, less than 1, 1 to 3, 4 to 8 or greater\n",
    "    than 8\n",
    "    -  Number of times that he/she goes to a coffee house: 0, less than 1, 1 to 3, 4 to 8 or\n",
    "    greater than 8\n",
    "    -  Number of times that he/she eats at a restaurant with average expense less than \\\\$20 per\n",
    "    person: 0, less than 1, 1 to 3, 4 to 8 or greater than 8\n",
    "    -  Number of times that he/she goes to a bar: 0, less than 1, 1 to 3, 4 to 8 or greater than 8\n",
    "    \n",
    "\n",
    "2. Contextual attributes\n",
    "    - Driving destination: home, work, or no urgent destination\n",
    "    - Location of user, coupon and destination: we provide a map to show the geographical\n",
    "    location of the user, destination, and the venue, and we mark the distance between each\n",
    "    two places with time of driving. The user can see whether the venue is in the same\n",
    "    direction as the destination.\n",
    "    - Weather: sunny, rainy, or snowy\n",
    "    - Temperature: 30F, 55F, or 80F\n",
    "    - Time: 10AM, 2PM, or 6PM\n",
    "    - Passenger: alone, partner, kid(s), or friend(s)\n",
    "\n",
    "\n",
    "3. Coupon attributes\n",
    "    - time before it expires: 2 hours or one day"
   ]
  },
  {
   "cell_type": "code",
   "execution_count": 9,
   "metadata": {
    "id": "dzNoP3o__qRG"
   },
   "outputs": [],
   "source": [
    "import matplotlib.pyplot as plt\n",
    "import seaborn as sns\n",
    "import pandas as pd\n",
    "import numpy as np"
   ]
  },
  {
   "cell_type": "markdown",
   "metadata": {
    "id": "Ct8pI1uE_qRG"
   },
   "source": [
    "### Problems\n",
    "\n",
    "Use the prompts below to get started with your data analysis.  \n",
    "\n",
    "1. Read in the `coupons.csv` file.\n",
    "\n",
    "\n"
   ]
  },
  {
   "cell_type": "code",
   "execution_count": 10,
   "metadata": {
    "id": "X0vbffYg_qRH"
   },
   "outputs": [],
   "source": [
    "data = pd.read_csv('data/coupons.csv')"
   ]
  },
  {
   "cell_type": "code",
   "execution_count": 11,
   "metadata": {
    "id": "TXofQ_DF_qRH",
    "outputId": "2fc96a2c-1112-4b54-f24f-dbb9bc88abfb"
   },
   "outputs": [
    {
     "data": {
      "text/html": [
       "<div>\n",
       "<style scoped>\n",
       "    .dataframe tbody tr th:only-of-type {\n",
       "        vertical-align: middle;\n",
       "    }\n",
       "\n",
       "    .dataframe tbody tr th {\n",
       "        vertical-align: top;\n",
       "    }\n",
       "\n",
       "    .dataframe thead th {\n",
       "        text-align: right;\n",
       "    }\n",
       "</style>\n",
       "<table border=\"1\" class=\"dataframe\">\n",
       "  <thead>\n",
       "    <tr style=\"text-align: right;\">\n",
       "      <th></th>\n",
       "      <th>destination</th>\n",
       "      <th>passanger</th>\n",
       "      <th>weather</th>\n",
       "      <th>temperature</th>\n",
       "      <th>time</th>\n",
       "      <th>coupon</th>\n",
       "      <th>expiration</th>\n",
       "      <th>gender</th>\n",
       "      <th>age</th>\n",
       "      <th>maritalStatus</th>\n",
       "      <th>...</th>\n",
       "      <th>CoffeeHouse</th>\n",
       "      <th>CarryAway</th>\n",
       "      <th>RestaurantLessThan20</th>\n",
       "      <th>Restaurant20To50</th>\n",
       "      <th>toCoupon_GEQ5min</th>\n",
       "      <th>toCoupon_GEQ15min</th>\n",
       "      <th>toCoupon_GEQ25min</th>\n",
       "      <th>direction_same</th>\n",
       "      <th>direction_opp</th>\n",
       "      <th>Y</th>\n",
       "    </tr>\n",
       "  </thead>\n",
       "  <tbody>\n",
       "    <tr>\n",
       "      <th>0</th>\n",
       "      <td>No Urgent Place</td>\n",
       "      <td>Alone</td>\n",
       "      <td>Sunny</td>\n",
       "      <td>55</td>\n",
       "      <td>2PM</td>\n",
       "      <td>Restaurant(&lt;20)</td>\n",
       "      <td>1d</td>\n",
       "      <td>Female</td>\n",
       "      <td>21</td>\n",
       "      <td>Unmarried partner</td>\n",
       "      <td>...</td>\n",
       "      <td>never</td>\n",
       "      <td>NaN</td>\n",
       "      <td>4~8</td>\n",
       "      <td>1~3</td>\n",
       "      <td>1</td>\n",
       "      <td>0</td>\n",
       "      <td>0</td>\n",
       "      <td>0</td>\n",
       "      <td>1</td>\n",
       "      <td>1</td>\n",
       "    </tr>\n",
       "    <tr>\n",
       "      <th>1</th>\n",
       "      <td>No Urgent Place</td>\n",
       "      <td>Friend(s)</td>\n",
       "      <td>Sunny</td>\n",
       "      <td>80</td>\n",
       "      <td>10AM</td>\n",
       "      <td>Coffee House</td>\n",
       "      <td>2h</td>\n",
       "      <td>Female</td>\n",
       "      <td>21</td>\n",
       "      <td>Unmarried partner</td>\n",
       "      <td>...</td>\n",
       "      <td>never</td>\n",
       "      <td>NaN</td>\n",
       "      <td>4~8</td>\n",
       "      <td>1~3</td>\n",
       "      <td>1</td>\n",
       "      <td>0</td>\n",
       "      <td>0</td>\n",
       "      <td>0</td>\n",
       "      <td>1</td>\n",
       "      <td>0</td>\n",
       "    </tr>\n",
       "    <tr>\n",
       "      <th>2</th>\n",
       "      <td>No Urgent Place</td>\n",
       "      <td>Friend(s)</td>\n",
       "      <td>Sunny</td>\n",
       "      <td>80</td>\n",
       "      <td>10AM</td>\n",
       "      <td>Carry out &amp; Take away</td>\n",
       "      <td>2h</td>\n",
       "      <td>Female</td>\n",
       "      <td>21</td>\n",
       "      <td>Unmarried partner</td>\n",
       "      <td>...</td>\n",
       "      <td>never</td>\n",
       "      <td>NaN</td>\n",
       "      <td>4~8</td>\n",
       "      <td>1~3</td>\n",
       "      <td>1</td>\n",
       "      <td>1</td>\n",
       "      <td>0</td>\n",
       "      <td>0</td>\n",
       "      <td>1</td>\n",
       "      <td>1</td>\n",
       "    </tr>\n",
       "    <tr>\n",
       "      <th>3</th>\n",
       "      <td>No Urgent Place</td>\n",
       "      <td>Friend(s)</td>\n",
       "      <td>Sunny</td>\n",
       "      <td>80</td>\n",
       "      <td>2PM</td>\n",
       "      <td>Coffee House</td>\n",
       "      <td>2h</td>\n",
       "      <td>Female</td>\n",
       "      <td>21</td>\n",
       "      <td>Unmarried partner</td>\n",
       "      <td>...</td>\n",
       "      <td>never</td>\n",
       "      <td>NaN</td>\n",
       "      <td>4~8</td>\n",
       "      <td>1~3</td>\n",
       "      <td>1</td>\n",
       "      <td>1</td>\n",
       "      <td>0</td>\n",
       "      <td>0</td>\n",
       "      <td>1</td>\n",
       "      <td>0</td>\n",
       "    </tr>\n",
       "    <tr>\n",
       "      <th>4</th>\n",
       "      <td>No Urgent Place</td>\n",
       "      <td>Friend(s)</td>\n",
       "      <td>Sunny</td>\n",
       "      <td>80</td>\n",
       "      <td>2PM</td>\n",
       "      <td>Coffee House</td>\n",
       "      <td>1d</td>\n",
       "      <td>Female</td>\n",
       "      <td>21</td>\n",
       "      <td>Unmarried partner</td>\n",
       "      <td>...</td>\n",
       "      <td>never</td>\n",
       "      <td>NaN</td>\n",
       "      <td>4~8</td>\n",
       "      <td>1~3</td>\n",
       "      <td>1</td>\n",
       "      <td>1</td>\n",
       "      <td>0</td>\n",
       "      <td>0</td>\n",
       "      <td>1</td>\n",
       "      <td>0</td>\n",
       "    </tr>\n",
       "  </tbody>\n",
       "</table>\n",
       "<p>5 rows × 26 columns</p>\n",
       "</div>"
      ],
      "text/plain": [
       "       destination  passanger weather  temperature  time  \\\n",
       "0  No Urgent Place      Alone   Sunny           55   2PM   \n",
       "1  No Urgent Place  Friend(s)   Sunny           80  10AM   \n",
       "2  No Urgent Place  Friend(s)   Sunny           80  10AM   \n",
       "3  No Urgent Place  Friend(s)   Sunny           80   2PM   \n",
       "4  No Urgent Place  Friend(s)   Sunny           80   2PM   \n",
       "\n",
       "                  coupon expiration  gender age      maritalStatus  ...  \\\n",
       "0        Restaurant(<20)         1d  Female  21  Unmarried partner  ...   \n",
       "1           Coffee House         2h  Female  21  Unmarried partner  ...   \n",
       "2  Carry out & Take away         2h  Female  21  Unmarried partner  ...   \n",
       "3           Coffee House         2h  Female  21  Unmarried partner  ...   \n",
       "4           Coffee House         1d  Female  21  Unmarried partner  ...   \n",
       "\n",
       "   CoffeeHouse CarryAway RestaurantLessThan20 Restaurant20To50  \\\n",
       "0        never       NaN                  4~8              1~3   \n",
       "1        never       NaN                  4~8              1~3   \n",
       "2        never       NaN                  4~8              1~3   \n",
       "3        never       NaN                  4~8              1~3   \n",
       "4        never       NaN                  4~8              1~3   \n",
       "\n",
       "  toCoupon_GEQ5min toCoupon_GEQ15min toCoupon_GEQ25min direction_same  \\\n",
       "0                1                 0                 0              0   \n",
       "1                1                 0                 0              0   \n",
       "2                1                 1                 0              0   \n",
       "3                1                 1                 0              0   \n",
       "4                1                 1                 0              0   \n",
       "\n",
       "  direction_opp  Y  \n",
       "0             1  1  \n",
       "1             1  0  \n",
       "2             1  1  \n",
       "3             1  0  \n",
       "4             1  0  \n",
       "\n",
       "[5 rows x 26 columns]"
      ]
     },
     "execution_count": 11,
     "metadata": {},
     "output_type": "execute_result"
    }
   ],
   "source": [
    "data.head()"
   ]
  },
  {
   "cell_type": "markdown",
   "metadata": {
    "id": "GcDs78ZH_qRH"
   },
   "source": [
    "2. Investigate the dataset for missing or problematic data."
   ]
  },
  {
   "cell_type": "code",
   "execution_count": 12,
   "metadata": {
    "id": "6CwL6oWj_qRH"
   },
   "outputs": [
    {
     "name": "stdout",
     "output_type": "stream",
     "text": [
      "\n",
      "Basic info:\n",
      "<class 'pandas.core.frame.DataFrame'>\n",
      "RangeIndex: 12684 entries, 0 to 12683\n",
      "Data columns (total 26 columns):\n",
      " #   Column                Non-Null Count  Dtype \n",
      "---  ------                --------------  ----- \n",
      " 0   destination           12684 non-null  object\n",
      " 1   passanger             12684 non-null  object\n",
      " 2   weather               12684 non-null  object\n",
      " 3   temperature           12684 non-null  int64 \n",
      " 4   time                  12684 non-null  object\n",
      " 5   coupon                12684 non-null  object\n",
      " 6   expiration            12684 non-null  object\n",
      " 7   gender                12684 non-null  object\n",
      " 8   age                   12684 non-null  object\n",
      " 9   maritalStatus         12684 non-null  object\n",
      " 10  has_children          12684 non-null  int64 \n",
      " 11  education             12684 non-null  object\n",
      " 12  occupation            12684 non-null  object\n",
      " 13  income                12684 non-null  object\n",
      " 14  car                   108 non-null    object\n",
      " 15  Bar                   12577 non-null  object\n",
      " 16  CoffeeHouse           12467 non-null  object\n",
      " 17  CarryAway             12533 non-null  object\n",
      " 18  RestaurantLessThan20  12554 non-null  object\n",
      " 19  Restaurant20To50      12495 non-null  object\n",
      " 20  toCoupon_GEQ5min      12684 non-null  int64 \n",
      " 21  toCoupon_GEQ15min     12684 non-null  int64 \n",
      " 22  toCoupon_GEQ25min     12684 non-null  int64 \n",
      " 23  direction_same        12684 non-null  int64 \n",
      " 24  direction_opp         12684 non-null  int64 \n",
      " 25  Y                     12684 non-null  int64 \n",
      "dtypes: int64(8), object(18)\n",
      "memory usage: 2.5+ MB\n",
      "\n",
      "Missing values per Col:\n",
      "destination                 0\n",
      "passanger                   0\n",
      "weather                     0\n",
      "temperature                 0\n",
      "time                        0\n",
      "coupon                      0\n",
      "expiration                  0\n",
      "gender                      0\n",
      "age                         0\n",
      "maritalStatus               0\n",
      "has_children                0\n",
      "education                   0\n",
      "occupation                  0\n",
      "income                      0\n",
      "car                     12576\n",
      "Bar                       107\n",
      "CoffeeHouse               217\n",
      "CarryAway                 151\n",
      "RestaurantLessThan20      130\n",
      "Restaurant20To50          189\n",
      "toCoupon_GEQ5min            0\n",
      "toCoupon_GEQ15min           0\n",
      "toCoupon_GEQ25min           0\n",
      "direction_same              0\n",
      "direction_opp               0\n",
      "Y                           0\n",
      "dtype: int64\n",
      "\n",
      "Quick stats:\n"
     ]
    },
    {
     "data": {
      "text/html": [
       "<div>\n",
       "<style scoped>\n",
       "    .dataframe tbody tr th:only-of-type {\n",
       "        vertical-align: middle;\n",
       "    }\n",
       "\n",
       "    .dataframe tbody tr th {\n",
       "        vertical-align: top;\n",
       "    }\n",
       "\n",
       "    .dataframe thead th {\n",
       "        text-align: right;\n",
       "    }\n",
       "</style>\n",
       "<table border=\"1\" class=\"dataframe\">\n",
       "  <thead>\n",
       "    <tr style=\"text-align: right;\">\n",
       "      <th></th>\n",
       "      <th>temperature</th>\n",
       "      <th>has_children</th>\n",
       "      <th>toCoupon_GEQ5min</th>\n",
       "      <th>toCoupon_GEQ15min</th>\n",
       "      <th>toCoupon_GEQ25min</th>\n",
       "      <th>direction_same</th>\n",
       "      <th>direction_opp</th>\n",
       "      <th>Y</th>\n",
       "    </tr>\n",
       "  </thead>\n",
       "  <tbody>\n",
       "    <tr>\n",
       "      <th>count</th>\n",
       "      <td>12684.000000</td>\n",
       "      <td>12684.000000</td>\n",
       "      <td>12684.0</td>\n",
       "      <td>12684.000000</td>\n",
       "      <td>12684.000000</td>\n",
       "      <td>12684.000000</td>\n",
       "      <td>12684.000000</td>\n",
       "      <td>12684.000000</td>\n",
       "    </tr>\n",
       "    <tr>\n",
       "      <th>mean</th>\n",
       "      <td>63.301798</td>\n",
       "      <td>0.414144</td>\n",
       "      <td>1.0</td>\n",
       "      <td>0.561495</td>\n",
       "      <td>0.119126</td>\n",
       "      <td>0.214759</td>\n",
       "      <td>0.785241</td>\n",
       "      <td>0.568433</td>\n",
       "    </tr>\n",
       "    <tr>\n",
       "      <th>std</th>\n",
       "      <td>19.154486</td>\n",
       "      <td>0.492593</td>\n",
       "      <td>0.0</td>\n",
       "      <td>0.496224</td>\n",
       "      <td>0.323950</td>\n",
       "      <td>0.410671</td>\n",
       "      <td>0.410671</td>\n",
       "      <td>0.495314</td>\n",
       "    </tr>\n",
       "    <tr>\n",
       "      <th>min</th>\n",
       "      <td>30.000000</td>\n",
       "      <td>0.000000</td>\n",
       "      <td>1.0</td>\n",
       "      <td>0.000000</td>\n",
       "      <td>0.000000</td>\n",
       "      <td>0.000000</td>\n",
       "      <td>0.000000</td>\n",
       "      <td>0.000000</td>\n",
       "    </tr>\n",
       "    <tr>\n",
       "      <th>25%</th>\n",
       "      <td>55.000000</td>\n",
       "      <td>0.000000</td>\n",
       "      <td>1.0</td>\n",
       "      <td>0.000000</td>\n",
       "      <td>0.000000</td>\n",
       "      <td>0.000000</td>\n",
       "      <td>1.000000</td>\n",
       "      <td>0.000000</td>\n",
       "    </tr>\n",
       "    <tr>\n",
       "      <th>50%</th>\n",
       "      <td>80.000000</td>\n",
       "      <td>0.000000</td>\n",
       "      <td>1.0</td>\n",
       "      <td>1.000000</td>\n",
       "      <td>0.000000</td>\n",
       "      <td>0.000000</td>\n",
       "      <td>1.000000</td>\n",
       "      <td>1.000000</td>\n",
       "    </tr>\n",
       "    <tr>\n",
       "      <th>75%</th>\n",
       "      <td>80.000000</td>\n",
       "      <td>1.000000</td>\n",
       "      <td>1.0</td>\n",
       "      <td>1.000000</td>\n",
       "      <td>0.000000</td>\n",
       "      <td>0.000000</td>\n",
       "      <td>1.000000</td>\n",
       "      <td>1.000000</td>\n",
       "    </tr>\n",
       "    <tr>\n",
       "      <th>max</th>\n",
       "      <td>80.000000</td>\n",
       "      <td>1.000000</td>\n",
       "      <td>1.0</td>\n",
       "      <td>1.000000</td>\n",
       "      <td>1.000000</td>\n",
       "      <td>1.000000</td>\n",
       "      <td>1.000000</td>\n",
       "      <td>1.000000</td>\n",
       "    </tr>\n",
       "  </tbody>\n",
       "</table>\n",
       "</div>"
      ],
      "text/plain": [
       "        temperature  has_children  toCoupon_GEQ5min  toCoupon_GEQ15min  \\\n",
       "count  12684.000000  12684.000000           12684.0       12684.000000   \n",
       "mean      63.301798      0.414144               1.0           0.561495   \n",
       "std       19.154486      0.492593               0.0           0.496224   \n",
       "min       30.000000      0.000000               1.0           0.000000   \n",
       "25%       55.000000      0.000000               1.0           0.000000   \n",
       "50%       80.000000      0.000000               1.0           1.000000   \n",
       "75%       80.000000      1.000000               1.0           1.000000   \n",
       "max       80.000000      1.000000               1.0           1.000000   \n",
       "\n",
       "       toCoupon_GEQ25min  direction_same  direction_opp             Y  \n",
       "count       12684.000000    12684.000000   12684.000000  12684.000000  \n",
       "mean            0.119126        0.214759       0.785241      0.568433  \n",
       "std             0.323950        0.410671       0.410671      0.495314  \n",
       "min             0.000000        0.000000       0.000000      0.000000  \n",
       "25%             0.000000        0.000000       1.000000      0.000000  \n",
       "50%             0.000000        0.000000       1.000000      1.000000  \n",
       "75%             0.000000        0.000000       1.000000      1.000000  \n",
       "max             1.000000        1.000000       1.000000      1.000000  "
      ]
     },
     "metadata": {},
     "output_type": "display_data"
    }
   ],
   "source": [
    "# Firstly, let's check basic info\n",
    "print(\"\\nBasic info:\")\n",
    "info = data.info()\n",
    "\n",
    "# Now, let's check for missing values in each column\n",
    "missing = data.isnull().sum()\n",
    "print(\"\\nMissing values per Col:\")\n",
    "print(missing)\n",
    "\n",
    "# Then some basic stats\n",
    "print(\"\\nQuick stats:\")\n",
    "display(data.describe())\n"
   ]
  },
  {
   "cell_type": "markdown",
   "metadata": {
    "id": "bSdVSpYB_qRH"
   },
   "source": [
    "3. Decide what to do about your missing data -- drop, replace, other..."
   ]
  },
  {
   "cell_type": "code",
   "execution_count": 13,
   "metadata": {
    "id": "tyvoAC5F_qRI"
   },
   "outputs": [
    {
     "name": "stdout",
     "output_type": "stream",
     "text": [
      "\n",
      "Basic info:\n",
      "<class 'pandas.core.frame.DataFrame'>\n",
      "Index: 12079 entries, 22 to 12683\n",
      "Data columns (total 25 columns):\n",
      " #   Column                Non-Null Count  Dtype \n",
      "---  ------                --------------  ----- \n",
      " 0   destination           12079 non-null  object\n",
      " 1   passanger             12079 non-null  object\n",
      " 2   weather               12079 non-null  object\n",
      " 3   temperature           12079 non-null  int64 \n",
      " 4   time                  12079 non-null  object\n",
      " 5   coupon                12079 non-null  object\n",
      " 6   expiration            12079 non-null  object\n",
      " 7   gender                12079 non-null  object\n",
      " 8   age                   12079 non-null  object\n",
      " 9   maritalStatus         12079 non-null  object\n",
      " 10  has_children          12079 non-null  int64 \n",
      " 11  education             12079 non-null  object\n",
      " 12  occupation            12079 non-null  object\n",
      " 13  income                12079 non-null  object\n",
      " 14  Bar                   12079 non-null  object\n",
      " 15  CoffeeHouse           12079 non-null  object\n",
      " 16  CarryAway             12079 non-null  object\n",
      " 17  RestaurantLessThan20  12079 non-null  object\n",
      " 18  Restaurant20To50      12079 non-null  object\n",
      " 19  toCoupon_GEQ5min      12079 non-null  int64 \n",
      " 20  toCoupon_GEQ15min     12079 non-null  int64 \n",
      " 21  toCoupon_GEQ25min     12079 non-null  int64 \n",
      " 22  direction_same        12079 non-null  int64 \n",
      " 23  direction_opp         12079 non-null  int64 \n",
      " 24  Y                     12079 non-null  int64 \n",
      "dtypes: int64(8), object(17)\n",
      "memory usage: 2.4+ MB\n"
     ]
    }
   ],
   "source": [
    "# Since the car column is practically fully null, let's drop it\n",
    "data = data.drop(columns=['car'])\n",
    "\n",
    "# Since only about ~5% of the table is made up of nulls from the other columns, let's drop the empty rows to have a clean table\n",
    "data = data.dropna()\n",
    "\n",
    "# What's the table look like now? \n",
    "print(\"\\nBasic info:\")\n",
    "info = data.info()"
   ]
  },
  {
   "cell_type": "markdown",
   "metadata": {
    "id": "YE6oJbXd_qRI"
   },
   "source": [
    "4. What proportion of the total observations chose to accept the coupon?\n",
    "\n"
   ]
  },
  {
   "cell_type": "code",
   "execution_count": 28,
   "metadata": {
    "id": "86GGqBTv_qRI"
   },
   "outputs": [
    {
     "name": "stdout",
     "output_type": "stream",
     "text": [
      "Count of people that accepted the coupon: 6877\n",
      "Count of people that didn't accept the coupon: 5202\n",
      "Total count of people: 12079\n",
      "Percentage who accepted the coupon: 56.9%\n"
     ]
    }
   ],
   "source": [
    "# The number of people that accepted the coupon is when col 'Y' == 1, as mentioned above\n",
    "accepted_coupon_count = data['Y'].sum() \n",
    "count_of_people = len(data) # Basically the total amount of rows in the col\n",
    "didnt_accept_coupon_count = count_of_people - accepted_coupon_count\n",
    "percentage_that_accepted = accepted_coupon_count / count_of_people\n",
    "\n",
    "print(f\"Count of people that accepted the coupon: {accepted_coupon_count}\")\n",
    "print(f\"Count of people that didn't accept the coupon: {didnt_accept_coupon_count}\")\n",
    "print(f\"Total count of people: {count_of_people}\")\n",
    "print(f\"Percentage who accepted the coupon: {percentage_that_accepted:.1%}\")"
   ]
  },
  {
   "cell_type": "markdown",
   "metadata": {
    "id": "vflz0DoE_qRI"
   },
   "source": [
    "5. Use a bar plot to visualize the `coupon` column."
   ]
  },
  {
   "cell_type": "code",
   "execution_count": 20,
   "metadata": {
    "id": "dHFh3E45_qRI"
   },
   "outputs": [
    {
     "data": {
      "image/png": "[encoded data removed]",
      "text/plain": [
       "<Figure size 640x480 with 1 Axes>"
      ]
     },
     "metadata": {},
     "output_type": "display_data"
    }
   ],
   "source": [
    "# Creating the Bar plot\n",
    "coupon_counts = data['coupon'].value_counts()\n",
    "coupon_counts.plot(kind='bar')\n",
    "\n",
    "# Customising the visual\n",
    "plt.title('Count of Each Coupon Type')\n",
    "plt.xlabel('Coupon Type')\n",
    "plt.ylabel('Count')\n",
    "plt.xticks(rotation=30)\n",
    "plt.tight_layout()\n",
    "plt.show()"
   ]
  },
  {
   "cell_type": "markdown",
   "metadata": {
    "id": "Qw4lCyx2_qRI"
   },
   "source": [
    "6. Use a histogram to visualize the temperature column."
   ]
  },
  {
   "cell_type": "code",
   "execution_count": 23,
   "metadata": {
    "id": "Yg9Anv71_qRI"
   },
   "outputs": [
    {
     "data": {
      "image/png": "[encoded data removed]",
      "text/plain": [
       "<Figure size 640x480 with 1 Axes>"
      ]
     },
     "metadata": {},
     "output_type": "display_data"
    }
   ],
   "source": [
    "# Creating the histogram\n",
    "plt.hist(data['temperature'], bins=10, edgecolor='k')\n",
    "\n",
    "# Customising the visual\n",
    "plt.title('Distribution of Temperature')\n",
    "plt.xlabel('Temperature (°F)')\n",
    "plt.ylabel('Frequency')\n",
    "plt.show()"
   ]
  },
  {
   "cell_type": "code",
   "execution_count": null,
   "metadata": {
    "id": "ShcUC-Vm_qRJ"
   },
   "outputs": [],
   "source": []
  },
  {
   "cell_type": "markdown",
   "metadata": {
    "id": "FupfgeJk_qRJ"
   },
   "source": [
    "**Investigating the Bar Coupons**\n",
    "\n",
    "Now, we will lead you through an exploration of just the bar related coupons.  \n",
    "\n",
    "1. Create a new `DataFrame` that contains just the bar coupons.\n"
   ]
  },
  {
   "cell_type": "code",
   "execution_count": 24,
   "metadata": {
    "id": "tMBlWuGq_qRJ"
   },
   "outputs": [],
   "source": [
    "# Create a new DataFrame with only Bar coupons\n",
    "bar_df = data[data['coupon'] == 'Bar']"
   ]
  },
  {
   "cell_type": "markdown",
   "metadata": {
    "id": "8ue6uCqf_qRJ"
   },
   "source": [
    "2. What proportion of bar coupons were accepted?\n"
   ]
  },
  {
   "cell_type": "code",
   "execution_count": 30,
   "metadata": {
    "id": "hSdte8Mi_qRK"
   },
   "outputs": [
    {
     "name": "stdout",
     "output_type": "stream",
     "text": [
      "Count of people that accepted the bar coupon: 788\n",
      "Count of people that didn't accept the bar coupon: 1125\n",
      "Total count of people that received coupons for the bar: 1913\n",
      "Percentage who accepted the bar coupon: 41.2%\n"
     ]
    }
   ],
   "source": [
    "# The number of people that accepted the coupon when it was for the Bar\n",
    "accepted_bar_coupon_count = bar_df['Y'].sum() \n",
    "people_w_bar_coupons = len(bar_df)\n",
    "didnt_accept_bar_coupon_count = people_w_bar_coupons - accepted_bar_coupon_count\n",
    "percentage_that_accepted_bar_coupon = accepted_bar_coupon_count / people_w_bar_coupons\n",
    "\n",
    "print(f\"Count of people that accepted the bar coupon: {accepted_bar_coupon_count}\")\n",
    "print(f\"Count of people that didn't accept the bar coupon: {didnt_accept_bar_coupon_count}\")\n",
    "print(f\"Total count of people that received coupons for the bar: {people_w_bar_coupons}\")\n",
    "print(f\"Percentage who accepted the bar coupon: {percentage_that_accepted_bar_coupon:.1%}\")"
   ]
  },
  {
   "cell_type": "markdown",
   "metadata": {
    "id": "85nA_iEi_qRK"
   },
   "source": [
    "3. Compare the acceptance rate between those who went to a bar 3 or fewer times a month to those who went more.\n"
   ]
  },
  {
   "cell_type": "code",
   "execution_count": 45,
   "metadata": {
    "id": "LBOrN-XM_qRK"
   },
   "outputs": [
    {
     "name": "stdout",
     "output_type": "stream",
     "text": [
      "Acceptance rate for higher frequency group: 37.3%\n",
      "Acceptance rate for lesser frequency: 76.2%\n"
     ]
    }
   ],
   "source": [
    "# Well, we need to define the two groups to make the comparison, for those that fell in either group\n",
    "lt_or_et_3 = [\"never\", \"less1\", \"1~3\"] # lt = 'less than', et = 'equal to'\n",
    "gt_3 = [\"4~8\", \"gt8\"] # gt = 'greater than'\n",
    "\n",
    "# less than or equal to 3 group\n",
    "bar_fewer = bar_df[bar_df['Bar'].isin(lt_or_et_3)] \n",
    "accept_rate_fewer = bar_fewer['Y'].mean()\n",
    "\n",
    "# greater than 3 group\n",
    "bar_more = bar_df[bar_df['Bar'].isin(gt_3)]\n",
    "accept_rate_more = bar_more['Y'].mean()\n",
    "\n",
    "print(f\"Acceptance rate for higher frequency group: {accept_rate_fewer:.1%}\")\n",
    "print(f\"Acceptance rate for lesser frequency: {accept_rate_more:.1%}\")"
   ]
  },
  {
   "cell_type": "markdown",
   "metadata": {
    "id": "RBgcQwH4_qRK"
   },
   "source": [
    "4. Compare the acceptance rate between drivers who go to a bar more than once a month and are over the age of 25 to the all others.  Is there a difference?\n"
   ]
  },
  {
   "cell_type": "code",
   "execution_count": 37,
   "metadata": {
    "id": "bf28bbeX_qRK"
   },
   "outputs": [
    {
     "name": "stdout",
     "output_type": "stream",
     "text": [
      "Acceptance rate for frequent visitors older than 25 years old: 66.7%\n",
      "Acceptance rate for all others: 40.3%\n"
     ]
    }
   ],
   "source": [
    "# Like above, we'll need to create the two groups for the comparison\n",
    "more_than_once = [\"1~3\", \"4~8\", \"gt8\"]\n",
    "over_25 = [\"26-30\", \"31-35\", \"36-40\", \"41-45\", \"46-50\", \"50plus\"]\n",
    "\n",
    "# frequent older visitors group\n",
    "bar_older_freq_visitors = bar_df[(bar_df['Bar'].isin(more_than_once)) & (bar_df['age'].isin(over_25))]\n",
    "accept_rate_older_freq_visitors = bar_older_freq_visitors['Y'].mean()\n",
    "\n",
    "# all others group\n",
    "all_others = bar_df[~((bar_df['Bar'].isin(more_than_once)) & (bar_df['age'].isin(over_25)))]\n",
    "accept_rate_all_others = all_others['Y'].mean()\n",
    "\n",
    "print(f\"Acceptance rate for frequent visitors older than 25 years old: {accept_rate_older_freq_visitors:.1%}\")\n",
    "print(f\"Acceptance rate for all others: {accept_rate_all_others:.1%}\")"
   ]
  },
  {
   "cell_type": "markdown",
   "metadata": {
    "id": "S4RKT4PJ_qRK"
   },
   "source": [
    "5. Use the same process to compare the acceptance rate between drivers who go to bars more than once a month and had passengers that were not a kid and had occupations other than farming, fishing, or forestry.\n"
   ]
  },
  {
   "cell_type": "code",
   "execution_count": 39,
   "metadata": {
    "id": "sENaI2Tg_qRK"
   },
   "outputs": [
    {
     "name": "stdout",
     "output_type": "stream",
     "text": [
      "Acceptance rate for frequent bar-goers without kids or excluded jobs: 70.9%\n",
      "Acceptance rate for all others: 29.8%\n"
     ]
    }
   ],
   "source": [
    "# Jobs to filter out\n",
    "excluded_jobs = [\"Farming & Fishing\", \"Forestry & Logging\"]\n",
    "\n",
    "# The group that went to bars more than once, had adult passengers, and aren't farmers, fishers, or foresters\n",
    "filtered_for_group = bar_df[\n",
    "    (bar_df['Bar'].isin(more_than_once)) &\n",
    "    (bar_df['passanger'] != \"Kid(s)\") &\n",
    "    (~bar_df['occupation'].isin(excluded_jobs))\n",
    "]\n",
    "accept_rate_filtered_for_group = filtered_for_group['Y'].mean()\n",
    "\n",
    "# The group with everyone else\n",
    "all_others = bar_df[~(\n",
    "    (bar_df['Bar'].isin(more_than_once)) &\n",
    "    (bar_df['passanger'] != \"Kid(s)\") &\n",
    "    (~bar_df['occupation'].isin(excluded_jobs))\n",
    ")]\n",
    "accept_rate_all_others = all_others['Y'].mean()\n",
    "\n",
    "print(f\"Acceptance rate for frequent bar-goers without kids or excluded jobs: {accept_rate_filtered_for_group:.1%}\")\n",
    "print(f\"Acceptance rate for all others: {accept_rate_all_others:.1%}\")\n"
   ]
  },
  {
   "cell_type": "markdown",
   "metadata": {
    "id": "n2LIUTil_qRK"
   },
   "source": [
    "6. Compare the acceptance rates between those drivers who:\n",
    "\n",
    "- go to bars more than once a month, had passengers that were not a kid, and were not widowed *OR*\n",
    "- go to bars more than once a month and are under the age of 30 *OR*\n",
    "- go to cheap restaurants more than 4 times a month and income is less than 50K.\n",
    "\n"
   ]
  },
  {
   "cell_type": "code",
   "execution_count": 52,
   "metadata": {
    "id": "aK_wEzx7_qRK"
   },
   "outputs": [
    {
     "name": "stdout",
     "output_type": "stream",
     "text": [
      "Acceptance rates for each group prior to Combination\n",
      "Acceptance rate for group a: 70.9% | Go to bars more than once a month, passenger not a kid, and not widowed\n",
      "Acceptance rate for group b: 67.5% | Go to bars more than once a month and are under 30\n",
      "Acceptance rate for group c: 60.3% | Go to cheap restaurants more than 4 times a month and income < $50K\n",
      "\n",
      "Acceptance rate comparisons after Combination\n",
      "Acceptance rate for combined special group: 61.6%\n",
      "Acceptance rate for all others: 55.6%\n"
     ]
    }
   ],
   "source": [
    "# Alright, let's define the groups as a), b), and c)\n",
    "\n",
    "# a) Go to bars more than once a month, passenger wasn't a kid, and not widowed\n",
    "group_a = ( (bar_df['Bar'].isin(more_than_once))  &  (bar_df['passanger'] != \"Kid(s)\") &  (bar_df['maritalStatus'] != \"Widowed\") )\n",
    "mask_a = group_a.reindex(data.index, fill_value=False)  # Align to full dataframe (data) so we can combine with group c later\n",
    "group_a_df = data[mask_a]\n",
    "accepted_a = group_a_df['Y'].mean()\n",
    "\n",
    "# b) Go to bars more than once a month and are under 30\n",
    "under_30 = [\"below21\", \"21\", \"21-25\", \"26-30\"]\n",
    "group_b = ( (bar_df['Bar'].isin(more_than_once))  &  (bar_df['age'].isin(under_30)) )\n",
    "mask_b = group_b.reindex(data.index, fill_value=False) # Align to full dataframe (data) so we can combine with group c later\n",
    "group_b_df = data[mask_b]\n",
    "accepted_b = group_b_df['Y'].mean()\n",
    "\n",
    "# c) Go to cheap restaurants more than 4 times a month and income < $50K\n",
    "cheap_restaurants = [\"4~8\", \"gt8\"]\n",
    "income_under_50k = [\"Less than $12500\", \"$12500 - $24999\", \"$25000 - $37499\", \"$37500 - $49999\"]\n",
    "group_c = ( (data['RestaurantLessThan20'].isin(cheap_restaurants))  &  (data['income'].isin(income_under_50k)) )\n",
    "mask_c = group_c # This was already aligned with the full dataframe because this group isn't a part of the bar group\n",
    "group_c_df = data[mask_c]\n",
    "accepted_c = group_c_df['Y'].mean()\n",
    "\n",
    "# Comparison groups\n",
    "combined_mask = mask_a | mask_b | mask_c # Combining the masks together\n",
    "combined_group = data[combined_mask] # The combined of groups of the total dataframe that satisfied the binary masks applied to the smaller dataframes\n",
    "all_others = data[~combined_mask] # Entire table without the filtered groups combined\n",
    "\n",
    "# Calculate acceptance rates\n",
    "accept_rate_combined = combined_group['Y'].mean()\n",
    "accept_rate_all_others = all_others['Y'].mean()\n",
    "\n",
    "print(\"Acceptance rates for each group prior to Combination\")\n",
    "print(f\"Acceptance rate for group a: {accepted_a:.1%} | Go to bars more than once a month, passenger not a kid, and not widowed\")\n",
    "print(f\"Acceptance rate for group b: {accepted_b:.1%} | Go to bars more than once a month and are under 30\")\n",
    "print(f\"Acceptance rate for group c: {accepted_c:.1%} | Go to cheap restaurants more than 4 times a month and income < $50K\")\n",
    "\n",
    "print(\"\\nAcceptance rate comparisons after Combination\")\n",
    "print(f\"Acceptance rate for combined special group: {accept_rate_combined:.1%}\")\n",
    "print(f\"Acceptance rate for all others: {accept_rate_all_others:.1%}\")"
   ]
  },
  {
   "cell_type": "markdown",
   "metadata": {
    "id": "v3fL3QkO_qRK"
   },
   "source": [
    "7.  Based on these observations, what do you hypothesize about drivers who accepted the bar coupons?"
   ]
  },
  {
   "cell_type": "markdown",
   "metadata": {
    "id": "Y48naDFh_qRL"
   },
   "source": [
    "- Drivers who go to bars more frequently (more than once a month) have higher acceptance rates.\n",
    "- Drivers who go to cheap restaurants more frequently also show higher acceptance, especially if their income is under 50K.\n",
    "- Younger drivers (under 30) who go to bars often are more likely to accept bar coupons.\n",
    "- Older frequent bar-goers (over 25) also have higher acceptance, but the younger group under 30 may be more spontaneous and responsive.\n",
    "- Drivers with passengers who are not kids (like friends or partners) are more likely to accept bar coupons, possibly because they are more open to group social activities.\n",
    "- Drivers who are not widowed and are not in an outdoor-based profession (like farming, fishing, forestry) tend to accept more, maybe due to lifestyle or social habits."
   ]
  },
  {
   "cell_type": "markdown",
   "metadata": {
    "id": "r4Hu1zOb_qRL"
   },
   "source": [
    "### Independent Investigation\n",
    "\n",
    "Using the bar coupon example as motivation, you are to explore one of the other coupon groups and try to determine the characteristics of passengers who accept the coupons.  "
   ]
  },
  {
   "cell_type": "code",
   "execution_count": 88,
   "metadata": {
    "id": "0c71cQhu_qRL"
   },
   "outputs": [
    {
     "data": {
      "image/png": "[encoded data removed]",
      "text/plain": [
       "<Figure size 800x500 with 1 Axes>"
      ]
     },
     "metadata": {},
     "output_type": "display_data"
    }
   ],
   "source": [
    "# Let's start by checking out how much of a sample size we have per type of coupon that was distributed\n",
    "coupon_counts = data['coupon'].value_counts()\n",
    "\n",
    "# I'm going to use matplotlib for this, and Seaborn for the ones below! \n",
    "plt.figure(figsize=(8, 5))\n",
    "plt.bar(coupon_counts.index, coupon_counts.values)\n",
    "plt.ylabel('Number of Coupons Distributed')\n",
    "plt.xlabel('Coupon Type')\n",
    "plt.title('Distribution of Coupon Types')\n",
    "plt.xticks(rotation=30)\n",
    "plt.tight_layout()\n",
    "\n",
    "# Data labels really do help for visuals like this\n",
    "for idx, value in enumerate(coupon_counts.values):\n",
    "    plt.text(idx, value + max(coupon_counts.values)*0.01, str(value), ha='center', va='bottom', fontsize=9)\n",
    "\n",
    "plt.show()"
   ]
  },
  {
   "cell_type": "code",
   "execution_count": 60,
   "metadata": {
    "id": "QEsBkvIN_qRL"
   },
   "outputs": [
    {
     "name": "stdout",
     "output_type": "stream",
     "text": [
      "Checking out Coffee House coupon group\n",
      "Coffee House coupons: 3816 rows\n"
     ]
    },
    {
     "data": {
      "text/html": [
       "<div>\n",
       "<style scoped>\n",
       "    .dataframe tbody tr th:only-of-type {\n",
       "        vertical-align: middle;\n",
       "    }\n",
       "\n",
       "    .dataframe tbody tr th {\n",
       "        vertical-align: top;\n",
       "    }\n",
       "\n",
       "    .dataframe thead th {\n",
       "        text-align: right;\n",
       "    }\n",
       "</style>\n",
       "<table border=\"1\" class=\"dataframe\">\n",
       "  <thead>\n",
       "    <tr style=\"text-align: right;\">\n",
       "      <th></th>\n",
       "      <th>destination</th>\n",
       "      <th>passanger</th>\n",
       "      <th>weather</th>\n",
       "      <th>temperature</th>\n",
       "      <th>time</th>\n",
       "      <th>coupon</th>\n",
       "      <th>expiration</th>\n",
       "      <th>gender</th>\n",
       "      <th>age</th>\n",
       "      <th>maritalStatus</th>\n",
       "      <th>...</th>\n",
       "      <th>CoffeeHouse</th>\n",
       "      <th>CarryAway</th>\n",
       "      <th>RestaurantLessThan20</th>\n",
       "      <th>Restaurant20To50</th>\n",
       "      <th>toCoupon_GEQ5min</th>\n",
       "      <th>toCoupon_GEQ15min</th>\n",
       "      <th>toCoupon_GEQ25min</th>\n",
       "      <th>direction_same</th>\n",
       "      <th>direction_opp</th>\n",
       "      <th>Y</th>\n",
       "    </tr>\n",
       "  </thead>\n",
       "  <tbody>\n",
       "    <tr>\n",
       "      <th>23</th>\n",
       "      <td>No Urgent Place</td>\n",
       "      <td>Friend(s)</td>\n",
       "      <td>Sunny</td>\n",
       "      <td>80</td>\n",
       "      <td>10AM</td>\n",
       "      <td>Coffee House</td>\n",
       "      <td>2h</td>\n",
       "      <td>Male</td>\n",
       "      <td>21</td>\n",
       "      <td>Single</td>\n",
       "      <td>...</td>\n",
       "      <td>less1</td>\n",
       "      <td>4~8</td>\n",
       "      <td>4~8</td>\n",
       "      <td>less1</td>\n",
       "      <td>1</td>\n",
       "      <td>0</td>\n",
       "      <td>0</td>\n",
       "      <td>0</td>\n",
       "      <td>1</td>\n",
       "      <td>0</td>\n",
       "    </tr>\n",
       "    <tr>\n",
       "      <th>26</th>\n",
       "      <td>No Urgent Place</td>\n",
       "      <td>Friend(s)</td>\n",
       "      <td>Sunny</td>\n",
       "      <td>80</td>\n",
       "      <td>2PM</td>\n",
       "      <td>Coffee House</td>\n",
       "      <td>1d</td>\n",
       "      <td>Male</td>\n",
       "      <td>21</td>\n",
       "      <td>Single</td>\n",
       "      <td>...</td>\n",
       "      <td>less1</td>\n",
       "      <td>4~8</td>\n",
       "      <td>4~8</td>\n",
       "      <td>less1</td>\n",
       "      <td>1</td>\n",
       "      <td>0</td>\n",
       "      <td>0</td>\n",
       "      <td>0</td>\n",
       "      <td>1</td>\n",
       "      <td>0</td>\n",
       "    </tr>\n",
       "    <tr>\n",
       "      <th>27</th>\n",
       "      <td>No Urgent Place</td>\n",
       "      <td>Friend(s)</td>\n",
       "      <td>Sunny</td>\n",
       "      <td>80</td>\n",
       "      <td>2PM</td>\n",
       "      <td>Coffee House</td>\n",
       "      <td>2h</td>\n",
       "      <td>Male</td>\n",
       "      <td>21</td>\n",
       "      <td>Single</td>\n",
       "      <td>...</td>\n",
       "      <td>less1</td>\n",
       "      <td>4~8</td>\n",
       "      <td>4~8</td>\n",
       "      <td>less1</td>\n",
       "      <td>1</td>\n",
       "      <td>1</td>\n",
       "      <td>0</td>\n",
       "      <td>0</td>\n",
       "      <td>1</td>\n",
       "      <td>0</td>\n",
       "    </tr>\n",
       "    <tr>\n",
       "      <th>28</th>\n",
       "      <td>No Urgent Place</td>\n",
       "      <td>Friend(s)</td>\n",
       "      <td>Sunny</td>\n",
       "      <td>80</td>\n",
       "      <td>2PM</td>\n",
       "      <td>Coffee House</td>\n",
       "      <td>1d</td>\n",
       "      <td>Male</td>\n",
       "      <td>21</td>\n",
       "      <td>Single</td>\n",
       "      <td>...</td>\n",
       "      <td>less1</td>\n",
       "      <td>4~8</td>\n",
       "      <td>4~8</td>\n",
       "      <td>less1</td>\n",
       "      <td>1</td>\n",
       "      <td>1</td>\n",
       "      <td>0</td>\n",
       "      <td>0</td>\n",
       "      <td>1</td>\n",
       "      <td>0</td>\n",
       "    </tr>\n",
       "    <tr>\n",
       "      <th>30</th>\n",
       "      <td>No Urgent Place</td>\n",
       "      <td>Friend(s)</td>\n",
       "      <td>Sunny</td>\n",
       "      <td>80</td>\n",
       "      <td>6PM</td>\n",
       "      <td>Coffee House</td>\n",
       "      <td>2h</td>\n",
       "      <td>Male</td>\n",
       "      <td>21</td>\n",
       "      <td>Single</td>\n",
       "      <td>...</td>\n",
       "      <td>less1</td>\n",
       "      <td>4~8</td>\n",
       "      <td>4~8</td>\n",
       "      <td>less1</td>\n",
       "      <td>1</td>\n",
       "      <td>0</td>\n",
       "      <td>0</td>\n",
       "      <td>0</td>\n",
       "      <td>1</td>\n",
       "      <td>0</td>\n",
       "    </tr>\n",
       "  </tbody>\n",
       "</table>\n",
       "<p>5 rows × 25 columns</p>\n",
       "</div>"
      ],
      "text/plain": [
       "        destination  passanger weather  temperature  time        coupon  \\\n",
       "23  No Urgent Place  Friend(s)   Sunny           80  10AM  Coffee House   \n",
       "26  No Urgent Place  Friend(s)   Sunny           80   2PM  Coffee House   \n",
       "27  No Urgent Place  Friend(s)   Sunny           80   2PM  Coffee House   \n",
       "28  No Urgent Place  Friend(s)   Sunny           80   2PM  Coffee House   \n",
       "30  No Urgent Place  Friend(s)   Sunny           80   6PM  Coffee House   \n",
       "\n",
       "   expiration gender age maritalStatus  ...  CoffeeHouse CarryAway  \\\n",
       "23         2h   Male  21        Single  ...        less1       4~8   \n",
       "26         1d   Male  21        Single  ...        less1       4~8   \n",
       "27         2h   Male  21        Single  ...        less1       4~8   \n",
       "28         1d   Male  21        Single  ...        less1       4~8   \n",
       "30         2h   Male  21        Single  ...        less1       4~8   \n",
       "\n",
       "   RestaurantLessThan20 Restaurant20To50 toCoupon_GEQ5min toCoupon_GEQ15min  \\\n",
       "23                  4~8            less1                1                 0   \n",
       "26                  4~8            less1                1                 0   \n",
       "27                  4~8            less1                1                 1   \n",
       "28                  4~8            less1                1                 1   \n",
       "30                  4~8            less1                1                 0   \n",
       "\n",
       "   toCoupon_GEQ25min direction_same direction_opp  Y  \n",
       "23                 0              0             1  0  \n",
       "26                 0              0             1  0  \n",
       "27                 0              0             1  0  \n",
       "28                 0              0             1  0  \n",
       "30                 0              0             1  0  \n",
       "\n",
       "[5 rows x 25 columns]"
      ]
     },
     "metadata": {},
     "output_type": "display_data"
    },
    {
     "name": "stdout",
     "output_type": "stream",
     "text": [
      "\n",
      "And a peak now at the Restaurant(20-50) coupon group\n",
      "Restaurant($20-$50) coupons: 1417 rows\n"
     ]
    },
    {
     "data": {
      "text/html": [
       "<div>\n",
       "<style scoped>\n",
       "    .dataframe tbody tr th:only-of-type {\n",
       "        vertical-align: middle;\n",
       "    }\n",
       "\n",
       "    .dataframe tbody tr th {\n",
       "        vertical-align: top;\n",
       "    }\n",
       "\n",
       "    .dataframe thead th {\n",
       "        text-align: right;\n",
       "    }\n",
       "</style>\n",
       "<table border=\"1\" class=\"dataframe\">\n",
       "  <thead>\n",
       "    <tr style=\"text-align: right;\">\n",
       "      <th></th>\n",
       "      <th>destination</th>\n",
       "      <th>passanger</th>\n",
       "      <th>weather</th>\n",
       "      <th>temperature</th>\n",
       "      <th>time</th>\n",
       "      <th>coupon</th>\n",
       "      <th>expiration</th>\n",
       "      <th>gender</th>\n",
       "      <th>age</th>\n",
       "      <th>maritalStatus</th>\n",
       "      <th>...</th>\n",
       "      <th>CoffeeHouse</th>\n",
       "      <th>CarryAway</th>\n",
       "      <th>RestaurantLessThan20</th>\n",
       "      <th>Restaurant20To50</th>\n",
       "      <th>toCoupon_GEQ5min</th>\n",
       "      <th>toCoupon_GEQ15min</th>\n",
       "      <th>toCoupon_GEQ25min</th>\n",
       "      <th>direction_same</th>\n",
       "      <th>direction_opp</th>\n",
       "      <th>Y</th>\n",
       "    </tr>\n",
       "  </thead>\n",
       "  <tbody>\n",
       "    <tr>\n",
       "      <th>36</th>\n",
       "      <td>Home</td>\n",
       "      <td>Alone</td>\n",
       "      <td>Sunny</td>\n",
       "      <td>55</td>\n",
       "      <td>6PM</td>\n",
       "      <td>Restaurant(20-50)</td>\n",
       "      <td>1d</td>\n",
       "      <td>Male</td>\n",
       "      <td>21</td>\n",
       "      <td>Single</td>\n",
       "      <td>...</td>\n",
       "      <td>less1</td>\n",
       "      <td>4~8</td>\n",
       "      <td>4~8</td>\n",
       "      <td>less1</td>\n",
       "      <td>1</td>\n",
       "      <td>1</td>\n",
       "      <td>0</td>\n",
       "      <td>0</td>\n",
       "      <td>1</td>\n",
       "      <td>0</td>\n",
       "    </tr>\n",
       "    <tr>\n",
       "      <th>40</th>\n",
       "      <td>Work</td>\n",
       "      <td>Alone</td>\n",
       "      <td>Sunny</td>\n",
       "      <td>80</td>\n",
       "      <td>7AM</td>\n",
       "      <td>Restaurant(20-50)</td>\n",
       "      <td>1d</td>\n",
       "      <td>Male</td>\n",
       "      <td>21</td>\n",
       "      <td>Single</td>\n",
       "      <td>...</td>\n",
       "      <td>less1</td>\n",
       "      <td>4~8</td>\n",
       "      <td>4~8</td>\n",
       "      <td>less1</td>\n",
       "      <td>1</td>\n",
       "      <td>1</td>\n",
       "      <td>0</td>\n",
       "      <td>0</td>\n",
       "      <td>1</td>\n",
       "      <td>0</td>\n",
       "    </tr>\n",
       "    <tr>\n",
       "      <th>58</th>\n",
       "      <td>Home</td>\n",
       "      <td>Alone</td>\n",
       "      <td>Sunny</td>\n",
       "      <td>55</td>\n",
       "      <td>6PM</td>\n",
       "      <td>Restaurant(20-50)</td>\n",
       "      <td>1d</td>\n",
       "      <td>Male</td>\n",
       "      <td>46</td>\n",
       "      <td>Single</td>\n",
       "      <td>...</td>\n",
       "      <td>4~8</td>\n",
       "      <td>1~3</td>\n",
       "      <td>1~3</td>\n",
       "      <td>never</td>\n",
       "      <td>1</td>\n",
       "      <td>1</td>\n",
       "      <td>0</td>\n",
       "      <td>0</td>\n",
       "      <td>1</td>\n",
       "      <td>0</td>\n",
       "    </tr>\n",
       "    <tr>\n",
       "      <th>62</th>\n",
       "      <td>Work</td>\n",
       "      <td>Alone</td>\n",
       "      <td>Sunny</td>\n",
       "      <td>80</td>\n",
       "      <td>7AM</td>\n",
       "      <td>Restaurant(20-50)</td>\n",
       "      <td>1d</td>\n",
       "      <td>Male</td>\n",
       "      <td>46</td>\n",
       "      <td>Single</td>\n",
       "      <td>...</td>\n",
       "      <td>4~8</td>\n",
       "      <td>1~3</td>\n",
       "      <td>1~3</td>\n",
       "      <td>never</td>\n",
       "      <td>1</td>\n",
       "      <td>1</td>\n",
       "      <td>0</td>\n",
       "      <td>0</td>\n",
       "      <td>1</td>\n",
       "      <td>0</td>\n",
       "    </tr>\n",
       "    <tr>\n",
       "      <th>80</th>\n",
       "      <td>Home</td>\n",
       "      <td>Alone</td>\n",
       "      <td>Sunny</td>\n",
       "      <td>55</td>\n",
       "      <td>6PM</td>\n",
       "      <td>Restaurant(20-50)</td>\n",
       "      <td>1d</td>\n",
       "      <td>Male</td>\n",
       "      <td>46</td>\n",
       "      <td>Married partner</td>\n",
       "      <td>...</td>\n",
       "      <td>1~3</td>\n",
       "      <td>1~3</td>\n",
       "      <td>1~3</td>\n",
       "      <td>less1</td>\n",
       "      <td>1</td>\n",
       "      <td>1</td>\n",
       "      <td>0</td>\n",
       "      <td>0</td>\n",
       "      <td>1</td>\n",
       "      <td>0</td>\n",
       "    </tr>\n",
       "  </tbody>\n",
       "</table>\n",
       "<p>5 rows × 25 columns</p>\n",
       "</div>"
      ],
      "text/plain": [
       "   destination passanger weather  temperature time             coupon  \\\n",
       "36        Home     Alone   Sunny           55  6PM  Restaurant(20-50)   \n",
       "40        Work     Alone   Sunny           80  7AM  Restaurant(20-50)   \n",
       "58        Home     Alone   Sunny           55  6PM  Restaurant(20-50)   \n",
       "62        Work     Alone   Sunny           80  7AM  Restaurant(20-50)   \n",
       "80        Home     Alone   Sunny           55  6PM  Restaurant(20-50)   \n",
       "\n",
       "   expiration gender age    maritalStatus  ...  CoffeeHouse CarryAway  \\\n",
       "36         1d   Male  21           Single  ...        less1       4~8   \n",
       "40         1d   Male  21           Single  ...        less1       4~8   \n",
       "58         1d   Male  46           Single  ...          4~8       1~3   \n",
       "62         1d   Male  46           Single  ...          4~8       1~3   \n",
       "80         1d   Male  46  Married partner  ...          1~3       1~3   \n",
       "\n",
       "   RestaurantLessThan20 Restaurant20To50 toCoupon_GEQ5min toCoupon_GEQ15min  \\\n",
       "36                  4~8            less1                1                 1   \n",
       "40                  4~8            less1                1                 1   \n",
       "58                  1~3            never                1                 1   \n",
       "62                  1~3            never                1                 1   \n",
       "80                  1~3            less1                1                 1   \n",
       "\n",
       "   toCoupon_GEQ25min direction_same direction_opp  Y  \n",
       "36                 0              0             1  0  \n",
       "40                 0              0             1  0  \n",
       "58                 0              0             1  0  \n",
       "62                 0              0             1  0  \n",
       "80                 0              0             1  0  \n",
       "\n",
       "[5 rows x 25 columns]"
      ]
     },
     "metadata": {},
     "output_type": "display_data"
    }
   ],
   "source": [
    "# I personally love coffee and it just so happens that coffee coupons are the largest coupon group! \n",
    "# Let's investigate the Coffee House and the Restaurant(20-50) Coupon Groups in parallel.\n",
    "\n",
    "# DataFrame for Coffee House coupons\n",
    "coffee_df = data[data['coupon'] == 'Coffee House']\n",
    "\n",
    "# DataFrame for Restaurant($20-$50) coupons\n",
    "rest_20_50_df = data[data['coupon'] == 'Restaurant(20-50)']\n",
    "\n",
    "# Let's check out both groups\n",
    "print(\"Checking out Coffee House coupon group\")\n",
    "print(f\"Coffee House coupons: {len(coffee_df)} rows\")\n",
    "display(coffee_df.head())\n",
    "\n",
    "print(\"\\nAnd a peak now at the Restaurant(20-50) coupon group\")\n",
    "print(f\"Restaurant($20-$50) coupons: {len(rest_20_50_df)} rows\")\n",
    "display(rest_20_50_df.head())"
   ]
  },
  {
   "cell_type": "code",
   "execution_count": 61,
   "metadata": {
    "id": "fTC2WGE3_qRL"
   },
   "outputs": [
    {
     "name": "stdout",
     "output_type": "stream",
     "text": [
      "Coffee House coupon acceptance rate: 49.6%\n",
      "Restaurant($20-$50) coupon acceptance rate: 44.6%\n"
     ]
    }
   ],
   "source": [
    "# Acceptance Rates now\n",
    "\n",
    "# Coffee House coupon acceptance\n",
    "coffee_accept = coffee_df['Y'].sum()\n",
    "coffee_total = len(coffee_df)\n",
    "coffee_accept_rate = coffee_accept / coffee_total\n",
    "print(f\"Coffee House coupon acceptance rate: {coffee_accept_rate:.1%}\")\n",
    "\n",
    "# Restaurant($20-$50) coupon acceptance\n",
    "rest_accept = rest_20_50_df['Y'].sum()\n",
    "rest_total = len(rest_20_50_df)\n",
    "rest_accept_rate = rest_accept / rest_total\n",
    "print(f\"Restaurant($20-$50) coupon acceptance rate: {rest_accept_rate:.1%}\")"
   ]
  },
  {
   "cell_type": "code",
   "execution_count": 85,
   "metadata": {
    "id": "RrqUWn7d_qRL"
   },
   "outputs": [
    {
     "data": {
      "image/png": "[encoded data removed]",
      "text/plain": [
       "<Figure size 1000x600 with 1 Axes>"
      ]
     },
     "metadata": {},
     "output_type": "display_data"
    }
   ],
   "source": [
    "coffee_passenger = coffee_df.groupby('passanger')['Y'].mean().reset_index()\n",
    "coffee_passenger['Coupon Group'] = 'Coffee House'\n",
    "rest_passenger = rest_20_50_df.groupby('passanger')['Y'].mean().reset_index()\n",
    "rest_passenger['Coupon Group'] = 'Restaurant($20-50)'\n",
    "\n",
    "combined = pd.concat([coffee_passenger, rest_passenger], ignore_index=True)\n",
    "combined.rename(columns={'Y': 'Acceptance Rate', 'passanger': 'Passenger Group'}, inplace=True)\n",
    "combined['Acceptance Rate'] = combined['Acceptance Rate'] * 100  # To show as percent\n",
    "\n",
    "plt.figure(figsize=(10, 6))\n",
    "ax = sns.barplot(data=combined, x='Passenger Group', y='Acceptance Rate', hue='Coupon Group')\n",
    "plt.ylabel('Acceptance Rate (%)')\n",
    "plt.title('Acceptance Rate by Passenger Group\\n(Coffee House vs Restaurant $20-50 Coupons)')\n",
    "plt.xticks(rotation=30)\n",
    "plt.tight_layout()\n",
    "\n",
    "# As mentioned above, data labels really do help for visuals like this\n",
    "for container in ax.containers:\n",
    "    ax.bar_label(container, fmt='%.1f%%', padding=3)\n",
    "plt.show()"
   ]
  },
  {
   "cell_type": "code",
   "execution_count": 89,
   "metadata": {
    "id": "_oykf8YP_qRL"
   },
   "outputs": [
    {
     "name": "stdout",
     "output_type": "stream",
     "text": [
      "Coffee House coupon acceptance rates by time of day:\n",
      "10AM: 63.5%\n",
      "10PM: 42.9%\n",
      "2PM: 54.5%\n",
      "6PM: 41.2%\n",
      "7AM: 44.0%\n"
     ]
    },
    {
     "data": {
      "image/png": "[encoded data removed]",
      "text/plain": [
       "<Figure size 1000x600 with 1 Axes>"
      ]
     },
     "metadata": {},
     "output_type": "display_data"
    }
   ],
   "source": [
    "# Let's include all the code for Coffee House in one code block:\n",
    "\n",
    "# This one is a general Time of Day, it seems like a low hanging fruit to check\n",
    "print(\"Coffee House coupon acceptance rates by time of day:\")\n",
    "coffee_time_rates = coffee_df.groupby('time')['Y'].mean()\n",
    "for t, rate in coffee_time_rates.items():\n",
    "    print(f\"{t}: {rate:.1%}\")\n",
    "\n",
    "# Now, let's check out what the acceptance rates are per age group, broken up by gender\n",
    "    \n",
    "# Calculate acceptance rates by age group and gender for Coffee House\n",
    "coffee_age_gender = coffee_df.groupby(['age', 'gender'])['Y'].mean().reset_index()\n",
    "coffee_age_gender['Acceptance Rate'] = coffee_age_gender['Y'] * 100  # turning this into a percent\n",
    "coffee_age_gender.rename(columns={'age': 'Age Group'}, inplace=True)\n",
    "\n",
    "# The actual plot below\n",
    "plt.figure(figsize=(10, 6))\n",
    "ax = sns.barplot(data=coffee_age_gender, x='Age Group', y='Acceptance Rate', hue='gender')\n",
    "plt.ylabel('Acceptance Rate (%)')\n",
    "plt.title('Coffee House Coupon Acceptance Rate by Age Group and Gender')\n",
    "plt.xticks(rotation=0)\n",
    "plt.tight_layout()\n",
    "\n",
    "# As mentioned above, data labels really do help for visuals like this\n",
    "for container in ax.containers:\n",
    "    ax.bar_label(container, fmt='%.1f%%', padding=3)\n",
    "plt.show()"
   ]
  },
  {
   "cell_type": "code",
   "execution_count": 82,
   "metadata": {
    "scrolled": false
   },
   "outputs": [
    {
     "name": "stdout",
     "output_type": "stream",
     "text": [
      "Restaurant($20-$50) coupon acceptance rates by time of day:\n",
      "10AM: 60.7%\n",
      "10PM: 33.9%\n",
      "2PM: 54.9%\n",
      "6PM: 50.3%\n",
      "7AM: 40.2%\n",
      "\n",
      "Restaurant($20-$50) coupon acceptance rates by occupation:\n",
      "Production Occupations: 72.7%\n",
      "Healthcare Support: 65.6%\n",
      "Office & Administrative Support: 62.2%\n",
      "Construction & Extraction: 61.9%\n",
      "Healthcare Practitioners & Technical: 56.7%\n",
      "Legal: 53.8%\n",
      "Computer & Mathematical: 52.7%\n",
      "Personal Care & Service: 50.0%\n",
      "Architecture & Engineering: 50.0%\n",
      "Sales & Related: 50.0%\n",
      "Protective Service: 47.6%\n",
      "Management: 47.6%\n",
      "Life Physical Social Science: 47.4%\n",
      "Student: 44.5%\n",
      "Building & Grounds Cleaning & Maintenance: 42.9%\n",
      "Education&Training&Library: 41.5%\n",
      "Transportation & Material Moving: 39.1%\n",
      "Arts Design Entertainment Sports & Media: 37.7%\n",
      "Business & Financial: 37.0%\n",
      "Unemployed: 35.2%\n",
      "Community & Social Services: 34.8%\n",
      "Food Preparation & Serving Related: 34.4%\n",
      "Retired: 25.0%\n",
      "Installation Maintenance & Repair: 20.0%\n",
      "Farming Fishing & Forestry: 16.7%\n",
      "\n",
      "Restaurant($20-$50) coupon acceptance rates by income:\n",
      "$100000 or More: 50.2%\n",
      "$12500 - $24999: 37.8%\n",
      "$25000 - $37499: 52.6%\n",
      "$37500 - $49999: 44.4%\n",
      "$50000 - $62499: 49.0%\n",
      "$62500 - $74999: 36.5%\n",
      "$75000 - $87499: 46.1%\n",
      "$87500 - $99999: 39.0%\n",
      "Less than $12500: 35.2%\n",
      "\n",
      "Acceptance rate for high-income (50+ years old): 50.5%\n",
      "Acceptance rate for high-income younger group (26 years old and younger): 64.5%\n"
     ]
    }
   ],
   "source": [
    "# Time of Day\n",
    "print(\"Restaurant($20-$50) coupon acceptance rates by time of day:\")\n",
    "rest_time_rates = rest_20_50_df.groupby('time')['Y'].mean()\n",
    "for t, rate in rest_time_rates.items():\n",
    "    print(f\"{t}: {rate:.1%}\")\n",
    "    \n",
    "# Occupation \n",
    "print(\"\\nRestaurant($20-$50) coupon acceptance rates by occupation:\")\n",
    "rest_occupation_rates = rest_20_50_df.groupby('occupation')['Y'].mean().sort_values(ascending=False)\n",
    "for occupation, rate in rest_occupation_rates.items():\n",
    "    print(f\"{occupation}: {rate:.1%}\")\n",
    "    \n",
    "# Income\n",
    "print(\"\\nRestaurant($20-$50) coupon acceptance rates by income:\")\n",
    "rest_income_rates = rest_20_50_df.groupby('income')['Y'].mean().sort_index()\n",
    "for income, rate in rest_income_rates.items():\n",
    "    print(f\"{income}: {rate:.1%}\")\n",
    "\n",
    "    \n",
    "    \n",
    "# Let's test now for acceptance rates to higher cost per plate restaurants by young vs old age groups when in a high income bracket\n",
    "\n",
    "# Filter for high income group\n",
    "high_income = [\"$100000 or More\", \"$87500 - $99999\"]\n",
    "high_income_df = data[data['income'].isin(high_income)]\n",
    "younger_ages = ['below21', '21', '26']\n",
    "\n",
    "# '50plus' high income group\n",
    "wealthy_50plus = high_income_df[high_income_df['age'] == '50plus']\n",
    "accept_wealthy_50plus = wealthy_50plus['Y'].mean()\n",
    "\n",
    "# Younger high income group\n",
    "wealthy_younger = high_income_df[high_income_df['age'].isin(younger_ages)]\n",
    "accept_wealthy_younger = wealthy_younger['Y'].mean()\n",
    "\n",
    "print(f\"\\nAcceptance rate for high-income (50+ years old): {accept_wealthy_50plus:.1%}\")\n",
    "print(f\"Acceptance rate for high-income younger group (26 years old and younger): {accept_wealthy_younger:.1%}\")"
   ]
  },
  {
   "cell_type": "markdown",
   "metadata": {},
   "source": [
    "### Final Observations"
   ]
  },
  {
   "cell_type": "markdown",
   "metadata": {},
   "source": [
    "#### Coffee House\n",
    "- Coffee House coupons are most effective earlier in the day—people may be more likely to accept coffee-related offers during typical “coffee times.”\n",
    "- There is no significant gender difference in acceptance rates for coffee house coupons overall.\n",
    "- Younger individuals are more receptive to coffee house coupons. Acceptance drops in older age brackets.\n",
    "- Among the youngest coffee coupon recipients, young men are dramatically more likely to accept than young women.\n",
    "\n",
    "#### Restaurant (20-50 per plate)\n",
    "- Like with coffee house coupons, offers made in the morning and early afternoon see the highest acceptance rates. Late evening or early morning coupons are less effective.\n",
    "- Manual labor, support, and healthcare occupations are much more likely to accept restaurant coupons, while retired, unemployed, and food service workers are much less likely.\n",
    "- People with mid-range or high incomes are more likely to accept high-value restaurant coupons. Very low or some mid-high income groups are less responsive.\n",
    "- Younger, wealthy individuals are far more likely to accept 20-50 per plate restaurant coupons than older wealthy individuals, possibly reflecting lifestyle or family situation differences."
   ]
  },
  {
   "cell_type": "code",
   "execution_count": null,
   "metadata": {},
   "outputs": [],
   "source": []
  }
 ],
 "metadata": {
  "colab": {
   "provenance": []
  },
  "kernelspec": {
   "display_name": "Python 3 (ipykernel)",
   "language": "python",
   "name": "python3"
  },
  "language_info": {
   "codemirror_mode": {
    "name": "ipython",
    "version": 3
   },
   "file_extension": ".py",
   "mimetype": "text/x-python",
   "name": "python",
   "nbconvert_exporter": "python",
   "pygments_lexer": "ipython3",
   "version": "3.11.5"
  }
 },
 "nbformat": 4,
 "nbformat_minor": 1
}
